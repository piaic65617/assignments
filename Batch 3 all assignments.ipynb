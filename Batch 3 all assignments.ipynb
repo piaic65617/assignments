{
 "cells": [
  {
   "cell_type": "markdown",
   "metadata": {},
   "source": [
    "# Rules for python identifier\n"
   ]
  },
  {
   "cell_type": "raw",
   "metadata": {},
   "source": [
    "1:An identifier is a sequence of letters such as uppercase(A to Z), lowercase(a to z),an underscore (_),or alphanumeric character\n",
    "\n",
    "\n",
    "2It dosenot allow punctuation characters such as @,!,$ with in the identifiers\n",
    "3:Case sensitive\n",
    "4:It cannot start with the digit(python thinks its a number)\n",
    "5:Reserved words cannot be used as an identifier\n",
    "rule for reserved words(keywords)\n",
    "     a.All keywords must be in lowercase\n",
    "     b.they cannot be used to represent constant or variables or any other identifier words.\n",
    "\n"
   ]
  },
  {
   "cell_type": "code",
   "execution_count": null,
   "metadata": {},
   "outputs": [],
   "source": [
    "#rule 1\n",
    "\n",
    "Example:\n",
    "STUDENTID=\n",
    "studentid=\n",
    "student_id=\n",
    "student1="
   ]
  },
  {
   "cell_type": "code",
   "execution_count": 6,
   "metadata": {
    "scrolled": true
   },
   "outputs": [
    {
     "ename": "SyntaxError",
     "evalue": "invalid syntax (<ipython-input-6-58192543c7a9>, line 2)",
     "output_type": "error",
     "traceback": [
      "\u001b[1;36m  File \u001b[1;32m\"<ipython-input-6-58192543c7a9>\"\u001b[1;36m, line \u001b[1;32m2\u001b[0m\n\u001b[1;33m    student$\u001b[0m\n\u001b[1;37m           ^\u001b[0m\n\u001b[1;31mSyntaxError\u001b[0m\u001b[1;31m:\u001b[0m invalid syntax\n"
     ]
    }
   ],
   "source": [
    "#rule 2\n",
    "student$\n",
    "student%"
   ]
  },
  {
   "cell_type": "code",
   "execution_count": 10,
   "metadata": {},
   "outputs": [
    {
     "name": "stdout",
     "output_type": "stream",
     "text": [
      "usman\n",
      "ali\n"
     ]
    }
   ],
   "source": [
    "#rule 3\n",
    "Student=\"usman\"\n",
    "student=\"ali\"\n",
    "print(Student)\n",
    "print(student)"
   ]
  },
  {
   "cell_type": "code",
   "execution_count": 11,
   "metadata": {
    "scrolled": false
   },
   "outputs": [
    {
     "ename": "SyntaxError",
     "evalue": "invalid syntax (<ipython-input-11-8b518fcec607>, line 2)",
     "output_type": "error",
     "traceback": [
      "\u001b[1;36m  File \u001b[1;32m\"<ipython-input-11-8b518fcec607>\"\u001b[1;36m, line \u001b[1;32m2\u001b[0m\n\u001b[1;33m    1student=\u001b[0m\n\u001b[1;37m           ^\u001b[0m\n\u001b[1;31mSyntaxError\u001b[0m\u001b[1;31m:\u001b[0m invalid syntax\n"
     ]
    }
   ],
   "source": [
    "#Rule 4\n",
    "1student="
   ]
  },
  {
   "cell_type": "code",
   "execution_count": 12,
   "metadata": {},
   "outputs": [
    {
     "ename": "SyntaxError",
     "evalue": "invalid syntax (<ipython-input-12-1b962757f8b6>, line 2)",
     "output_type": "error",
     "traceback": [
      "\u001b[1;36m  File \u001b[1;32m\"<ipython-input-12-1b962757f8b6>\"\u001b[1;36m, line \u001b[1;32m2\u001b[0m\n\u001b[1;33m    if=\"ali\"\u001b[0m\n\u001b[1;37m      ^\u001b[0m\n\u001b[1;31mSyntaxError\u001b[0m\u001b[1;31m:\u001b[0m invalid syntax\n"
     ]
    }
   ],
   "source": [
    "#rule 5\n",
    "if=\"ali\"\n",
    "while=\"usman\"\n",
    "print (if)"
   ]
  },
  {
   "cell_type": "markdown",
   "metadata": {},
   "source": [
    "# python keywords"
   ]
  },
  {
   "cell_type": "code",
   "execution_count": 15,
   "metadata": {
    "scrolled": true
   },
   "outputs": [
    {
     "name": "stdout",
     "output_type": "stream",
     "text": [
      "['False', 'None', 'True', 'and', 'as', 'assert', 'async', 'await', 'break', 'class', 'continue', 'def', 'del', 'elif', 'else', 'except', 'finally', 'for', 'from', 'global', 'if', 'import', 'in', 'is', 'lambda', 'nonlocal', 'not', 'or', 'pass', 'raise', 'return', 'try', 'while', 'with', 'yield']\n",
      "35\n"
     ]
    }
   ],
   "source": [
    "#program to print all keywords\n",
    "\n",
    "import keyword\n",
    "print(keyword.kwlist)\n",
    "\n",
    "#number of keywords\n",
    "\n",
    "print (len(keyword.kwlist))\n",
    "\n",
    "#as for the previous version there were 33 keywords\n",
    "#but know thet add two nbew keywords, \"sync\"and \"await\"\n",
    "#there fore total of 35 keywords"
   ]
  },
  {
   "cell_type": "markdown",
   "metadata": {},
   "source": [
    "# python variables"
   ]
  },
  {
   "cell_type": "raw",
   "metadata": {},
   "source": [
    "Definition: variables are reserved memory locatrions to store values(data).This means when you create a variable then you are reserving some space in a memory.\n"
   ]
  },
  {
   "cell_type": "code",
   "execution_count": 18,
   "metadata": {},
   "outputs": [
    {
     "name": "stdout",
     "output_type": "stream",
     "text": [
      "123 ali 85.7\n"
     ]
    }
   ],
   "source": [
    "#declaring a varibale.when you put \"=\"then this will assign a value to the variable you want to declare.\n",
    "\n",
    "student_id=123 #this is integer\n",
    "name=\"ali\"     #this is string \n",
    "marks=85.7     #this is float\n",
    "print(student_id,name,marks)"
   ]
  },
  {
   "cell_type": "markdown",
   "metadata": {},
   "source": [
    "# multiple assignments"
   ]
  },
  {
   "cell_type": "code",
   "execution_count": 19,
   "metadata": {},
   "outputs": [
    {
     "name": "stdout",
     "output_type": "stream",
     "text": [
      "10 20 30 40\n"
     ]
    }
   ],
   "source": [
    "#1.multiple variabble in a single row\n",
    "a,b,c,d=10,20,30,40\n",
    "print(a,b,c,d)"
   ]
  },
  {
   "cell_type": "code",
   "execution_count": 25,
   "metadata": {},
   "outputs": [
    {
     "data": {
      "text/plain": [
       "(int, str, float)"
      ]
     },
     "execution_count": 25,
     "metadata": {},
     "output_type": "execute_result"
    }
   ],
   "source": [
    "#2.multiple variables of different data types\n",
    "\n",
    "student_id,name,marks=123,\"ali\",85.7\n",
    "type(student_id),type(name),type(marks)\n"
   ]
  },
  {
   "cell_type": "code",
   "execution_count": 26,
   "metadata": {},
   "outputs": [
    {
     "name": "stdout",
     "output_type": "stream",
     "text": [
      "diesel engine diesel engine diesel engine\n"
     ]
    }
   ],
   "source": [
    "#3.single value to variuos variables\n",
    "engine1=engine2=engine3= \"diesel engine\"\n",
    "print(engine1,engine2,engine3)"
   ]
  },
  {
   "cell_type": "markdown",
   "metadata": {},
   "source": [
    "# memory allocation"
   ]
  },
  {
   "cell_type": "code",
   "execution_count": 27,
   "metadata": {},
   "outputs": [
    {
     "ename": "TypeError",
     "evalue": "id() takes exactly one argument (3 given)",
     "output_type": "error",
     "traceback": [
      "\u001b[1;31m---------------------------------------------------------------------------\u001b[0m",
      "\u001b[1;31mTypeError\u001b[0m                                 Traceback (most recent call last)",
      "\u001b[1;32m<ipython-input-27-527f202884cf>\u001b[0m in \u001b[0;36m<module>\u001b[1;34m\u001b[0m\n\u001b[0;32m      1\u001b[0m \u001b[1;31m#id is used to find the address of the variable\u001b[0m\u001b[1;33m\u001b[0m\u001b[1;33m\u001b[0m\u001b[1;33m\u001b[0m\u001b[0m\n\u001b[1;32m----> 2\u001b[1;33m \u001b[0mprint\u001b[0m\u001b[1;33m(\u001b[0m\u001b[0mid\u001b[0m\u001b[1;33m(\u001b[0m\u001b[0mengine1\u001b[0m\u001b[1;33m,\u001b[0m\u001b[0mengine2\u001b[0m\u001b[1;33m,\u001b[0m\u001b[0mengine3\u001b[0m\u001b[1;33m)\u001b[0m\u001b[1;33m)\u001b[0m\u001b[1;33m\u001b[0m\u001b[1;33m\u001b[0m\u001b[0m\n\u001b[0m",
      "\u001b[1;31mTypeError\u001b[0m: id() takes exactly one argument (3 given)"
     ]
    }
   ],
   "source": [
    "#id is used to find the address of the variable\n",
    "#id takes only one argument\n",
    "print(id(engine1))"
   ]
  },
  {
   "cell_type": "code",
   "execution_count": 28,
   "metadata": {},
   "outputs": [
    {
     "name": "stdout",
     "output_type": "stream",
     "text": [
      "2596628315056\n",
      "2596628315056\n",
      "2596628315056\n"
     ]
    }
   ],
   "source": [
    "print(id(engine1))\n",
    "print(id(engine2))\n",
    "print(id(engine3))"
   ]
  },
  {
   "cell_type": "code",
   "execution_count": 29,
   "metadata": {},
   "outputs": [
    {
     "name": "stdout",
     "output_type": "stream",
     "text": [
      "2596623633456\n"
     ]
    }
   ],
   "source": [
    "#updating the value of variable will change its locatin\n",
    "engine2=\"gas engine\"\n",
    "print(id(engine2))"
   ]
  },
  {
   "cell_type": "raw",
   "metadata": {},
   "source": [
    "conclusion:\n",
    "the performance of our coding depends upon two things\n",
    "1.code logic\n",
    "2.memory allocation(how we handle varibales)"
   ]
  },
  {
   "cell_type": "raw",
   "metadata": {},
   "source": [
    "quiz 1\n",
    "Which command to type in command prompt to open the Jupyter notebook ?\n",
    "Choose the Valid Identifiers ?\n",
    "Choose the correct code to print all the reserved keyword\n",
    "student = \"Vinoth\" and Student = \"Anand\".  Is both the variables are same ?\n",
    "How to assignment multiple values ?\n",
    "What Python built-in function returns the unique number or  address assigned to an object or address of avariable ?\n",
    "Consider the following sequence of statementsa = 100b = a Following execution of these statements, Python has created how many objects and how many references?\n",
    "In Python, a variable must be declared before it is assigned a value\n",
    "In Python, a variable may be assigned a value of one type, and then later assigned a value of a different type:"
   ]
  },
  {
   "cell_type": "markdown",
   "metadata": {},
   "source": [
    "# section II\n"
   ]
  },
  {
   "cell_type": "markdown",
   "metadata": {},
   "source": [
    "# Python operators\n",
    "#python  numbers and Arithmetic operators"
   ]
  },
  {
   "cell_type": "markdown",
   "metadata": {},
   "source": [
    "# comparison operators"
   ]
  },
  {
   "cell_type": "code",
   "execution_count": null,
   "metadata": {},
   "outputs": [],
   "source": []
  },
  {
   "cell_type": "markdown",
   "metadata": {},
   "source": [
    "# comparison or relational operators "
   ]
  },
  {
   "cell_type": "markdown",
   "metadata": {},
   "source": [
    "![title](Desktop\\comp.png)\n"
   ]
  },
  {
   "cell_type": "code",
   "execution_count": 14,
   "metadata": {
    "scrolled": true
   },
   "outputs": [
    {
     "name": "stdout",
     "output_type": "stream",
     "text": [
      "20>10 is True\n",
      "20<10 is False\n",
      "20==10 is False\n",
      "20!=10  is True\n",
      "20>=10 is True\n",
      "20<=10  is False\n"
     ]
    }
   ],
   "source": [
    "#sample code for comparison operators\n",
    "\n",
    "a=20\n",
    "b=10\n",
    "\n",
    "#gretaer than >\n",
    "print('{}>{} is'.format(a,b),a>b) #format will print the value of a in first {} and value of bin second {},then it will check the condition a>b\n",
    "\n",
    "#less than <\n",
    "print('{}<{} is'.format(a,b),a<b)\n",
    "\n",
    "#equal to ==\n",
    "print('{}=={} is'.format(a,b),a==b)\n",
    "\n",
    "#not equal to !=\n",
    "print('{}!={}  is'.format(a,b),a!=b)\n",
    "\n",
    "#greater than or equal to >= \n",
    "print('{}>={} is'.format(a,b),a>=b)\n",
    "\n",
    "#less than or equal to <=\n",
    "print('{}<={}  is'.format(a,b),a<=b)\n"
   ]
  },
  {
   "cell_type": "markdown",
   "metadata": {},
   "source": [
    "# logical operators"
   ]
  },
  {
   "cell_type": "markdown",
   "metadata": {},
   "source": [
    "![title](Desktop\\logical.jpeg)"
   ]
  },
  {
   "cell_type": "code",
   "execution_count": 21,
   "metadata": {
    "scrolled": true
   },
   "outputs": [
    {
     "ename": "ImportError",
     "evalue": "cannot import name 'image' from 'IPython.display' (D:\\anaconda 3.7\\lib\\site-packages\\IPython\\display.py)",
     "output_type": "error",
     "traceback": [
      "\u001b[1;31m---------------------------------------------------------------------------\u001b[0m",
      "\u001b[1;31mImportError\u001b[0m                               Traceback (most recent call last)",
      "\u001b[1;32m<ipython-input-21-585769a7d682>\u001b[0m in \u001b[0;36m<module>\u001b[1;34m\u001b[0m\n\u001b[1;32m----> 1\u001b[1;33m \u001b[1;32mfrom\u001b[0m \u001b[0mIPython\u001b[0m\u001b[1;33m.\u001b[0m\u001b[0mdisplay\u001b[0m \u001b[1;32mimport\u001b[0m \u001b[0mimage\u001b[0m\u001b[1;33m\u001b[0m\u001b[1;33m\u001b[0m\u001b[0m\n\u001b[0m\u001b[0;32m      2\u001b[0m \u001b[0mimage\u001b[0m\u001b[1;33m(\u001b[0m\u001b[1;34m\"Desktop\\piaic islamabad\\python\\image.jpeg\"\u001b[0m\u001b[1;33m)\u001b[0m\u001b[1;33m\u001b[0m\u001b[1;33m\u001b[0m\u001b[0m\n",
      "\u001b[1;31mImportError\u001b[0m: cannot import name 'image' from 'IPython.display' (D:\\anaconda 3.7\\lib\\site-packages\\IPython\\display.py)"
     ]
    }
   ],
   "source": [
    "from IPython.display import image\n",
    "image(\"Desktop\\piaic islamabad\\python\\image.jpeg\")\n"
   ]
  },
  {
   "cell_type": "code",
   "execution_count": 19,
   "metadata": {},
   "outputs": [
    {
     "name": "stdout",
     "output_type": "stream",
     "text": [
      "a and b is False\n",
      "False\n",
      "True\n",
      "not a is False\n",
      "False\n",
      "True\n"
     ]
    }
   ],
   "source": [
    "#and operator\n",
    "a =True\n",
    "b=False\n",
    "\n",
    "x=100\n",
    "y=50\n",
    "print('a and b is',a and b)\n",
    "print(x>y and x==y)\n",
    "\n",
    "#Or operator\n",
    "print(x>y or x==y)\n",
    "\n",
    "#NOT operator\n",
    "print('not a is', not a)\n",
    "print(not x>y)\n",
    "print(not x==y)\n",
    "\n"
   ]
  },
  {
   "cell_type": "markdown",
   "metadata": {},
   "source": [
    "# Assignment and bitwise operators"
   ]
  },
  {
   "cell_type": "raw",
   "metadata": {},
   "source": [
    "assignment operators are used to assign values to the variables\n",
    "e.g a = 10\n",
    "her\"=\" is an assignment operator\n",
    "\n",
    "Augmented assignment operators:\n",
    "It combinee assignment operator with other logical operators like addition,subtraction etc.\n",
    "it makes our code more easy.\n",
    "Figure of Augmented assignment operators is as follows."
   ]
  },
  {
   "cell_type": "markdown",
   "metadata": {},
   "source": [
    "![title](Desktop\\AAO.jpeg)"
   ]
  },
  {
   "cell_type": "code",
   "execution_count": 29,
   "metadata": {},
   "outputs": [
    {
     "name": "stdout",
     "output_type": "stream",
     "text": [
      "simple  expression value  is  2\n",
      "the additional assignment value is 2\n",
      "the additional assignment value is -1\n",
      "the additional assignment value is 2\n",
      "the additional assignment value is 3.5\n",
      "the additional assignment value is 1\n",
      "the additional assignment value is 49\n"
     ]
    }
   ],
   "source": [
    "#simple expression\n",
    "\n",
    "i=1\n",
    "i=i+1\n",
    "print(\"simple  expression value  is \",i)\n",
    "\n",
    "#additional Assignment\n",
    "\n",
    "j=1\n",
    "j+=1  #means j=j+1\n",
    "print(\"the additional assignment value is\", j)\n",
    "\n",
    "#subtraction assignment\n",
    "\n",
    "j=1\n",
    "j-=2  #means j=j-2\n",
    "print(\"the additional assignment value is\", j)\n",
    "\n",
    "#multiplication assignment\n",
    "\n",
    "j=1\n",
    "j*=2  #means j=j*2\n",
    "print(\"the additional assignment value is\", j)\n",
    "\n",
    "#Float Division assignment\n",
    "\n",
    "j=7\n",
    "j/=2  #means j=j/2\n",
    "print(\"the additional assignment value is\", j)\n",
    "\n",
    "#Remainder assignment\n",
    "\n",
    "j=7\n",
    "j%=2  #means j=j%2\n",
    "print(\"the additional assignment value is\", j)\n",
    "\n",
    "#Exponent assignment\n",
    "j=7\n",
    "j**=2  #means j=j**2\n",
    "print(\"the additional assignment value is\", j)\n"
   ]
  },
  {
   "cell_type": "markdown",
   "metadata": {},
   "source": [
    "# Bitwise operator"
   ]
  },
  {
   "cell_type": "markdown",
   "metadata": {},
   "source": [
    "![title](Desktop\\bitwise.jpeg)"
   ]
  },
  {
   "cell_type": "raw",
   "metadata": {},
   "source": [
    "DEFINITION:\n",
    "Bitwise operator are used to compare binary numbers and work bit by bit."
   ]
  },
  {
   "cell_type": "markdown",
   "metadata": {},
   "source": [
    "![title](Desktop\\binary.png)"
   ]
  },
  {
   "cell_type": "raw",
   "metadata": {},
   "source": [
    "Method to convert a decimal number into binary number\n",
    "\n",
    "Syntax : '{0:08b}'.format(number)\n",
    " \n",
    "where\n",
    "      {} , place a variable into string\n",
    "      0 ,  takes the variable at argument position 0\n",
    "      : ,  add formating option for this variable(otherwise it would represent decimal 6)\n",
    "      08 , formats the number to the eight digits zero padded on the left\n",
    "      b ,  converts the number into its binary representation"
   ]
  },
  {
   "cell_type": "code",
   "execution_count": 10,
   "metadata": {},
   "outputs": [
    {
     "name": "stdout",
     "output_type": "stream",
     "text": [
      "binary number for 17 is 00010001\n",
      "binary number for 10 is 00001010\n",
      "binary AND value is  0\n",
      "binary OR value is  27\n",
      "binary OR value is  27\n",
      "binary 1s complement is -18\n",
      "binaryRight shift is 4\n",
      "binaryRight shift is 68\n"
     ]
    }
   ],
   "source": [
    "a=17\n",
    "b=10\n",
    "print('binary number for {0} is {0:08b}'.format (a))\n",
    "print('binary number for {0} is {0:08b}'.format (b))\n",
    "\n",
    "#binary AND ,set each bit to 1 if both bit are 1\n",
    "#00000000\n",
    "print('binary AND value is ', a&b)\n",
    "\n",
    "#binary OR ,set each bit to 1 if one of two bits is  1\n",
    "#00011011\n",
    "print('binary OR value is ', a|b)\n",
    "\n",
    "#binary XOR ,set each bit to 1 if only one of two bits is  1\n",
    "#00011011\n",
    "print('binary OR value is ', a^b)\n",
    "\n",
    "#binary One's complement ,inverts all the  bits\n",
    "#11101110\n",
    "print('binary 1s complement is', ~a)\n",
    "\n",
    "#binary Right shift  ,shift right by pushing copies of the left most bit in from the the left and letting the right most bit fall off.\n",
    "#00000100\n",
    "print('binaryRight shift is', a>>2)\n",
    "\n",
    "#binary left shift   ,shift left by pushing zeros  in from the the right and letting the left most bit fall off.\n",
    "#01000100\n",
    "print('binaryRight shift is', a<<2)"
   ]
  },
  {
   "cell_type": "markdown",
   "metadata": {},
   "source": [
    "# Special Operators"
   ]
  },
  {
   "cell_type": "markdown",
   "metadata": {},
   "source": [
    "# Identity operators"
   ]
  },
  {
   "cell_type": "markdown",
   "metadata": {},
   "source": [
    "![title](Desktop\\iden.jpeg)"
   ]
  },
  {
   "cell_type": "raw",
   "metadata": {},
   "source": [
    "Identity operators are used to compare the memory location of two objects.\n",
    "outputs will be a bolean value."
   ]
  },
  {
   "cell_type": "code",
   "execution_count": 14,
   "metadata": {},
   "outputs": [
    {
     "name": "stdout",
     "output_type": "stream",
     "text": [
      "memory location of a is 140709925724848\n",
      "memory location of b is 140709925724848\n",
      "True\n",
      "memory location of a is 2064655515376\n",
      "memory location of b is 2064655515376\n",
      "True\n",
      "memory location of L1 is 2064652959240\n",
      "memory location of L2 is 2064654124040\n",
      "False\n"
     ]
    }
   ],
   "source": [
    "#Example 1 :Numbers using \"is\" operator\n",
    "a=10\n",
    "b=10\n",
    "print('memory location of a is',id(a))\n",
    "print('memory location of b is',id(b))\n",
    "print(a is b)\n",
    "\n",
    "#Example 1 :Strings using \"is\" operator\n",
    "\n",
    "a=\"ali\"\n",
    "b=\"ali\"\n",
    "print('memory location of a is',id(a))\n",
    "print('memory location of b is',id(b))\n",
    "\n",
    "print(a is b)\n",
    "\n",
    "#Example 1 :List using \"is\" operator\n",
    "\n",
    "L1=[1,2,3,4]\n",
    "L2=[1,2,3,4]\n",
    "print('memory location of L1 is',id(L1))\n",
    "print('memory location of L2 is',id(L2))\n",
    "\n",
    "print(L1 is L2)"
   ]
  },
  {
   "cell_type": "code",
   "execution_count": 15,
   "metadata": {},
   "outputs": [
    {
     "name": "stdout",
     "output_type": "stream",
     "text": [
      "memory location of a is 140709925724848\n",
      "memory location of b is 140709925724848\n",
      "False\n",
      "memory location of a is 2064655512944\n",
      "memory location of b is 2064655512944\n",
      "False\n",
      "memory location of L1 is 2064655268040\n",
      "memory location of L2 is 2064654124424\n",
      "True\n"
     ]
    }
   ],
   "source": [
    "#Example 1 :Numbers using \"is not\" operator\n",
    "a=10\n",
    "b=10\n",
    "print('memory location of a is',id(a))\n",
    "print('memory location of b is',id(b))\n",
    "print(a is not b)\n",
    "\n",
    "#Example 1 :Strings using \"is not\" operator\n",
    "\n",
    "a=\"ali\"\n",
    "b=\"ali\"\n",
    "print('memory location of a is',id(a))\n",
    "print('memory location of b is',id(b))\n",
    "\n",
    "print(a is not b)\n",
    "\n",
    "#Example 1 :List using \"is not\" operator\n",
    "\n",
    "L1=[1,2,3,4]\n",
    "L2=[1,2,3,4]\n",
    "print('memory location of L1 is',id(L1))\n",
    "print('memory location of L2 is',id(L2))\n",
    "\n",
    "print(L1 is not L2)"
   ]
  },
  {
   "cell_type": "markdown",
   "metadata": {},
   "source": [
    "# Membership operator"
   ]
  },
  {
   "cell_type": "markdown",
   "metadata": {},
   "source": [
    "![title](Desktop\\Mem.png)"
   ]
  },
  {
   "cell_type": "raw",
   "metadata": {},
   "source": [
    "Membership operator are used to check whteher the variable or value is found in a sequence(string,list tuple,set and  dictionary).\n"
   ]
  },
  {
   "cell_type": "code",
   "execution_count": 21,
   "metadata": {},
   "outputs": [
    {
     "name": "stdout",
     "output_type": "stream",
     "text": [
      "True\n",
      "False\n",
      "False\n",
      "True\n"
     ]
    }
   ],
   "source": [
    "#In operator\n",
    "mylist=[2,3.4,\"purple\",100]\n",
    "print(100 in mylist)\n",
    "print(44 in mylist)\n",
    "\n",
    "#Not In operator\n",
    "mylist=[2,3.4,\"purple\",100]\n",
    "print(100 not in mylist)\n",
    "print(44 not in mylist)"
   ]
  },
  {
   "cell_type": "code",
   "execution_count": 1,
   "metadata": {},
   "outputs": [
    {
     "ename": "NameError",
     "evalue": "name 'a' is not defined",
     "output_type": "error",
     "traceback": [
      "\u001b[1;31m---------------------------------------------------------------------------\u001b[0m",
      "\u001b[1;31mNameError\u001b[0m                                 Traceback (most recent call last)",
      "\u001b[1;32m<ipython-input-1-697abafc3f9e>\u001b[0m in \u001b[0;36m<module>\u001b[1;34m\u001b[0m\n\u001b[0;32m      1\u001b[0m \u001b[1;31m#binary AND ,set each bit to 1 if both bit are 1\u001b[0m\u001b[1;33m\u001b[0m\u001b[1;33m\u001b[0m\u001b[1;33m\u001b[0m\u001b[0m\n\u001b[0;32m      2\u001b[0m \u001b[1;31m#00000000\u001b[0m\u001b[1;33m\u001b[0m\u001b[1;33m\u001b[0m\u001b[1;33m\u001b[0m\u001b[0m\n\u001b[1;32m----> 3\u001b[1;33m \u001b[0mprint\u001b[0m\u001b[1;33m(\u001b[0m\u001b[1;34m'binary abd value is '\u001b[0m\u001b[1;33m,\u001b[0m \u001b[0ma\u001b[0m\u001b[1;33m&\u001b[0m\u001b[0mb\u001b[0m\u001b[1;33m)\u001b[0m\u001b[1;33m\u001b[0m\u001b[1;33m\u001b[0m\u001b[0m\n\u001b[0m",
      "\u001b[1;31mNameError\u001b[0m: name 'a' is not defined"
     ]
    }
   ],
   "source": [
    "#binary AND ,set each bit to 1 if both bit are 1\n",
    "#00000000\n",
    "print('binary abd value is ', a&b)"
   ]
  },
  {
   "cell_type": "code",
   "execution_count": null,
   "metadata": {},
   "outputs": [],
   "source": []
  },
  {
   "cell_type": "code",
   "execution_count": null,
   "metadata": {},
   "outputs": [],
   "source": []
  },
  {
   "cell_type": "code",
   "execution_count": null,
   "metadata": {},
   "outputs": [],
   "source": []
  },
  {
   "cell_type": "code",
   "execution_count": null,
   "metadata": {},
   "outputs": [],
   "source": []
  },
  {
   "cell_type": "code",
   "execution_count": 19,
   "metadata": {
    "scrolled": true
   },
   "outputs": [
    {
     "name": "stdout",
     "output_type": "stream",
     "text": [
      "enter your marks87\n",
      "your grade is B\n"
     ]
    }
   ],
   "source": [
    "marks=int(input(\"enter your marks\"))\n",
    "if (marks >= 90):\n",
    "    print(\"your grade is A\")\n",
    "if (marks in range(80,91)):\n",
    "    print(\"your grade is B\")\n",
    "else:\n",
    "    print(\"your grade is c\")"
   ]
  },
  {
   "cell_type": "code",
   "execution_count": 1,
   "metadata": {},
   "outputs": [],
   "source": [
    "import pyautogui as pg"
   ]
  },
  {
   "cell_type": "code",
   "execution_count": 3,
   "metadata": {},
   "outputs": [],
   "source": [
    "import pandas as pd"
   ]
  },
  {
   "cell_type": "markdown",
   "metadata": {},
   "source": [
    "\n",
    "Functions are used to perform a long process in a pecise an easy way. two types of funcion 1.Built in 2.pre defined fx\n",
    "\n",
    "1.Builtin fx\n",
    "Absolute function resturs the absolute value of the specified number.abs()\n",
    "\n",
    "all().Returns the true if all the items in an iterable are true.Otherwise t returns false.\n",
    "\n",
    "asc11().it returns the readable version of any object.\n",
    "\n",
    "ascii(object),object may be list,tuple,strings etc.\n",
    "\n",
    "bool().returns boolean value of object\n",
    "\n",
    "enumerate().take an collection (eg tuple) and return it as na emunerate object.\n",
    "\n",
    "format().formats a specified value into a specified format.\n",
    "\n",
    "getattr().returns the value of specified attribute from a specified object.\n",
    "\n",
    "Syntax: getattr(object,attribute,default)\n",
    "\n",
    "id().returns a unique id for a specified object.\n",
    "\n",
    "len().returns a number of items in an object.\n",
    "\n",
    "map().executes a specified fx for each items in an iterable.the item is sent to fx as a parameter.\n",
    "\n",
    "min().returns the item that have a lowest value in an iterable.\n",
    "\n",
    "pow().returns the vlaue of x to the power y ,x^y.\n",
    "\n",
    "setattr().sets teh vlaue of a speciied attribute of the specified object.\n",
    "\n",
    "sorted().returns the sorted list of the specified iterable objects.\n",
    "\n",
    "\n"
   ]
  },
  {
   "cell_type": "code",
   "execution_count": 4,
   "metadata": {},
   "outputs": [
    {
     "data": {
      "text/plain": [
       "[22, 55, 99]"
      ]
     },
     "execution_count": 4,
     "metadata": {},
     "output_type": "execute_result"
    }
   ],
   "source": [
    "class person:\n",
    "    name=\"faizan\"\n",
    "    age=24\n",
    "    country=\"pakistan\"\n",
    "getattr(person,'age')\n",
    "\n",
    "\n",
    "x=('true','true')\n",
    "all(x)\n",
    "\n",
    "\n",
    "x=2\n",
    "ascii(x)\n",
    "\n",
    "\n",
    "\n",
    "x=('false','false')\n",
    "bool(x)\n",
    "\n",
    "\n",
    "\n",
    "x=('apple','bnnana')\n",
    "enumerate(x)\n",
    "\n",
    "\n",
    "x=(0.5,'%')\n",
    "format(x)\n",
    "\n",
    "\"(0.5, '%')\"\n",
    "\n",
    "id(x)\n",
    "\n",
    "\n",
    "\n",
    "len('apple')\n",
    "\n",
    "\n",
    "#map(function,iterable)\n",
    "def myfun(n):\n",
    "    return len(n)\n",
    "x=map(myfun,('apple'))\n",
    "\n",
    "min(5,2,8)\n",
    "\n",
    "\n",
    "\n",
    "pow(2,3)\n",
    "\n",
    "\n",
    "\n",
    "class person:\n",
    "    name=\"faizan\"\n",
    "    age=24\n",
    "    country=\"pakistan\"\n",
    "    \n",
    "setattr(person,'age',35)\n",
    "\n",
    "l1=[55,22,99]\n",
    "sorted(l1)\n",
    "\n",
    "\n"
   ]
  },
  {
   "cell_type": "code",
   "execution_count": 13,
   "metadata": {},
   "outputs": [
    {
     "name": "stdout",
     "output_type": "stream",
     "text": [
      "10\n",
      "18\n",
      "20\n",
      "30\n",
      "15\n",
      "15\n",
      "15\n",
      "Muhammad Faizan Ashraf\n",
      "Ashraf Muhammad Ashraf\n"
     ]
    }
   ],
   "source": [
    "#lamba()\n",
    "#it can take any num o arguments but can only have one expression.\n",
    "\n",
    "\n",
    "x=lambda a:a+5\n",
    "print(x(5))\n",
    "\n",
    "\n",
    "x=lambda a,b,c:a+b+c\n",
    "print(x(5,6,7))\n",
    "\n",
    "\n",
    "def myfunc(n): #takes n argument\n",
    "    return lambda x:x*n   #this will return the value that is double or tripled\n",
    "mydoubler=myfunc(2) #this store 2 in n\n",
    "mytripler=myfunc(3) #his will store 3 in n\n",
    "\n",
    "print(mydoubler(10))#this value multiply the x as 10 and double it after multiplying with 2\n",
    "print(mytripler(10))#this value multiply the x as 10 and triple it after multiplying with 2\n",
    "\n",
    "\n",
    "\n",
    "\n",
    "def add(a,b):\n",
    "    print(a+b)\n",
    "add(10,5)\n",
    "\n",
    "\n",
    "\n",
    "def add(a,b):\n",
    "    print(a+b)\n",
    "add(10,5)\n",
    "#positional arguments\n",
    "\n",
    "\n",
    "def add(a,b):\n",
    "    print(a+b)\n",
    "add(b=10,a=5)\n",
    "\n",
    "\n",
    "def fname(first,middle,last):\n",
    "    print(first,middle,last)\n",
    "fname(\"Muhammad\",\"Faizan\",\"Ashraf\",)\n",
    "\n",
    "\n",
    "def fname(first,middle,last):\n",
    "    print(first,middle,last)\n",
    "fname(f\"Ashraf\",\"Muhammad\",\"Ashraf\")\n"
   ]
  },
  {
   "cell_type": "markdown",
   "metadata": {},
   "source": [
    "## user Defined Functions\n",
    "\n"
   ]
  },
  {
   "cell_type": "code",
   "execution_count": null,
   "metadata": {},
   "outputs": [],
   "source": [
    "\n",
    "def my_func(fname): #created a function with the parameter fname\n",
    "    print(fname,\"ashraf\")  #print \n",
    "my_func(\"zeehsan\")    #pass the argumment as fname\n",
    "zeehsan ashraf\n",
    "\n",
    "def my_fun(country=\"Pakistan\"):\n",
    "    print(\"i am from\"+country)\n",
    "my_fun(\"kashmir\") \n",
    "my_fun()\n",
    "i am fromkashmir\n",
    "i am fromPakistan\n",
    "\n",
    "def my_maths(x):\n",
    "    return 5*x\n",
    "print(my_maths(2))\n",
    "print (my_maths(4))\n",
    "10\n",
    "20\n",
    "#RECURSION\n",
    "#Recursion is a fx calling on itself.\n",
    "\n",
    "\n",
    "tri_rec=input(str(\"enter the value of k\"))\n",
    "def tri_rec(k):\n",
    "    if(k>0):\n",
    "        result=k+tri_rec(k-1)\n",
    "        print(result)\n",
    "    else:\n",
    "        result=0\n",
    "    return result\n",
    "enter the value of k4\n"
   ]
  },
  {
   "cell_type": "markdown",
   "metadata": {},
   "source": [
    "## Default parameters"
   ]
  },
  {
   "cell_type": "code",
   "execution_count": 18,
   "metadata": {},
   "outputs": [
    {
     "name": "stdout",
     "output_type": "stream",
     "text": [
      "6\n"
     ]
    }
   ],
   "source": [
    "def add(a,b=2):\n",
    "    print(a+b)\n",
    "add(4)   #the interpretor has use the defualt value of 2 as i havenot given the argument for b parameter \n",
    "    "
   ]
  },
  {
   "cell_type": "markdown",
   "metadata": {},
   "source": [
    "## Unknown num of Arguments"
   ]
  },
  {
   "cell_type": "code",
   "execution_count": 4,
   "metadata": {},
   "outputs": [
    {
     "name": "stdout",
     "output_type": "stream",
     "text": [
      "your order of pizza size 12, flavour chiken tikka,and toppings('olives', 'tomatoes', 'chillies') is ready\n"
     ]
    }
   ],
   "source": [
    "def pizzaorder(size,flavour,*toppings): #*deals with arbitrary arguments\n",
    "    print(f\"your order of pizza size {size}, flavour {flavour},and toppings{toppings} is ready\")\n",
    "pizzaorder(12,\"chiken tikka\",\"olives\",\"tomatoes\",\"chillies\")    "
   ]
  },
  {
   "cell_type": "markdown",
   "metadata": {},
   "source": [
    "## fx passing back information"
   ]
  },
  {
   "cell_type": "code",
   "execution_count": 10,
   "metadata": {},
   "outputs": [
    {
     "name": "stdout",
     "output_type": "stream",
     "text": [
      "(324, 'square of 18')\n"
     ]
    }
   ],
   "source": [
    "def square (a,b):\n",
    "    ans=a**b\n",
    "    return ans ,\"square of 18\"\n",
    "result=square(18,2)\n",
    "print(result)"
   ]
  },
  {
   "cell_type": "markdown",
   "metadata": {},
   "source": [
    "## functions as variables"
   ]
  },
  {
   "cell_type": "code",
   "execution_count": 26,
   "metadata": {},
   "outputs": [
    {
     "data": {
      "text/plain": [
       "7"
      ]
     },
     "execution_count": 26,
     "metadata": {},
     "output_type": "execute_result"
    }
   ],
   "source": [
    "def sum(a,b):\n",
    " \n",
    "    return a+b\n",
    "def sub(a,b):\n",
    "    return a-b\n",
    "result=sum(5,3)-sub(4,3)\n",
    "result"
   ]
  },
  {
   "cell_type": "markdown",
   "metadata": {},
   "source": [
    "## Local vs global varaibles"
   ]
  },
  {
   "cell_type": "markdown",
   "metadata": {},
   "source": [
    "#local Varaibles\n",
    "Local varaibles are defined inside the fx and their access is only when they are called inside the body.\n",
    "#Global variables\n",
    "are defined outsisde the fx and their scope and acces and modificationcan be inside or outside the fx body.\n"
   ]
  },
  {
   "cell_type": "code",
   "execution_count": null,
   "metadata": {},
   "outputs": [],
   "source": []
  }
 ],
 "metadata": {
  "kernelspec": {
   "display_name": "Python 3",
   "language": "python",
   "name": "python3"
  },
  "language_info": {
   "codemirror_mode": {
    "name": "ipython",
    "version": 3
   },
   "file_extension": ".py",
   "mimetype": "text/x-python",
   "name": "python",
   "nbconvert_exporter": "python",
   "pygments_lexer": "ipython3",
   "version": "3.7.4"
  }
 },
 "nbformat": 4,
 "nbformat_minor": 2
}
