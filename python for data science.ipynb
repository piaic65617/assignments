{
 "cells": [
  {
   "cell_type": "markdown",
   "metadata": {},
   "source": [
    "# python  numbers and numeric operators\n"
   ]
  },
  {
   "cell_type": "raw",
   "metadata": {},
   "source": [
    "standard data type\n",
    "1.numbers\n",
    "2.strings\n",
    "3.lists\n",
    "4.tuples\n",
    "5.dictionary"
   ]
  },
  {
   "cell_type": "markdown",
   "metadata": {},
   "source": [
    "# number data type"
   ]
  },
  {
   "cell_type": "raw",
   "metadata": {},
   "source": [
    "1.integer\n",
    "2.float\n",
    "3.complex"
   ]
  },
  {
   "cell_type": "code",
   "execution_count": 3,
   "metadata": {},
   "outputs": [
    {
     "name": "stdout",
     "output_type": "stream",
     "text": [
      "50 50.5 (50+2j)\n"
     ]
    }
   ],
   "source": [
    "i=50    #integer\n",
    "j=50.5  #float\n",
    "k=50+2j  #complex number\n",
    "print(i,j,k)"
   ]
  },
  {
   "cell_type": "markdown",
   "metadata": {},
   "source": [
    "# identifying the variable type"
   ]
  },
  {
   "cell_type": "code",
   "execution_count": 4,
   "metadata": {},
   "outputs": [
    {
     "name": "stdout",
     "output_type": "stream",
     "text": [
      "<class 'int'>\n",
      "<class 'float'>\n",
      "<class 'complex'>\n"
     ]
    }
   ],
   "source": [
    "print(type(i))\n",
    "print(type(j))\n",
    "print(type(k))"
   ]
  },
  {
   "cell_type": "markdown",
   "metadata": {},
   "source": [
    "# types of operators"
   ]
  },
  {
   "cell_type": "raw",
   "metadata": {},
   "source": [
    "1.addition  +\n",
    "2.subtraction  -\n",
    "3.multiplication *\n",
    "4.Float Division /\n",
    "5.integer division //\n",
    "6.modulus or remainder %\n",
    "7.Exponent **"
   ]
  },
  {
   "cell_type": "code",
   "execution_count": 8,
   "metadata": {},
   "outputs": [
    {
     "name": "stdout",
     "output_type": "stream",
     "text": [
      "25\n",
      "100\n",
      "15\n",
      "4.0\n",
      "4\n",
      "0\n",
      "3200000\n"
     ]
    }
   ],
   "source": [
    "x=20\n",
    "y=5\n",
    "\n",
    "print(x+y)  #addition operator\n",
    "print(x*y)  #multiplication operator\n",
    "print(x-y)  #subtration operator\n",
    "print(x/y)  #float division\n",
    "print(x//y) #integer division\n",
    "print(x%y)  #modulus or remainder\n",
    "print(x**y) #exponent operator"
   ]
  },
  {
   "cell_type": "markdown",
   "metadata": {},
   "source": [
    "# how to import image"
   ]
  },
  {
   "cell_type": "markdown",
   "metadata": {},
   "source": [
    "![title](C:\\Users\\ranaramzan\\Desktop\\img\\precedencerule)"
   ]
  },
  {
   "cell_type": "code",
   "execution_count": 13,
   "metadata": {},
   "outputs": [
    {
     "ename": "ModuleNotFoundError",
     "evalue": "No module named 'ipython'",
     "output_type": "error",
     "traceback": [
      "\u001b[1;31m---------------------------------------------------------------------------\u001b[0m",
      "\u001b[1;31mModuleNotFoundError\u001b[0m                       Traceback (most recent call last)",
      "\u001b[1;32m<ipython-input-13-7b89692a6178>\u001b[0m in \u001b[0;36m<module>\u001b[1;34m\u001b[0m\n\u001b[1;32m----> 1\u001b[1;33m \u001b[1;32mfrom\u001b[0m \u001b[0mipython\u001b[0m\u001b[1;33m.\u001b[0m\u001b[0mdisplay\u001b[0m \u001b[1;32mimport\u001b[0m \u001b[0mimage\u001b[0m\u001b[1;33m\u001b[0m\u001b[1;33m\u001b[0m\u001b[0m\n\u001b[0m\u001b[0;32m      2\u001b[0m \u001b[0mimage\u001b[0m\u001b[1;33m(\u001b[0m\u001b[0mfilename\u001b[0m\u001b[1;33m=\u001b[0m\u001b[1;34m\"img\\precedencerule\"\u001b[0m\u001b[1;33m,\u001b[0m\u001b[0mwidht\u001b[0m\u001b[1;33m=\u001b[0m\u001b[1;36m200\u001b[0m\u001b[1;33m,\u001b[0m\u001b[0mheight\u001b[0m\u001b[1;33m=\u001b[0m\u001b[1;36m400\u001b[0m\u001b[1;33m)\u001b[0m\u001b[1;33m\u001b[0m\u001b[1;33m\u001b[0m\u001b[0m\n",
      "\u001b[1;31mModuleNotFoundError\u001b[0m: No module named 'ipython'"
     ]
    }
   ],
   "source": [
    "from ipython.display import image\n",
    "image(filename=\"img\\precedencerule\",widht=200,height=400)"
   ]
  },
  {
   "cell_type": "markdown",
   "metadata": {},
   "source": [
    "# python flow control"
   ]
  },
  {
   "cell_type": "markdown",
   "metadata": {},
   "source": [
    "# python control statement"
   ]
  },
  {
   "cell_type": "raw",
   "metadata": {},
   "source": [
    "python conrol statements\n",
    "1.if\n",
    "2.if else\n",
    "3.if elif else\n",
    "4.nested if\n"
   ]
  },
  {
   "cell_type": "markdown",
   "metadata": {},
   "source": [
    "# if statement\n"
   ]
  },
  {
   "cell_type": "markdown",
   "metadata": {},
   "source": [
    "## example"
   ]
  },
  {
   "cell_type": "code",
   "execution_count": 6,
   "metadata": {},
   "outputs": [
    {
     "name": "stdout",
     "output_type": "stream",
     "text": [
      "this line will print always\n"
     ]
    }
   ],
   "source": [
    "#program to check whether the user age is under 18 or not\n",
    "\n",
    "user_age=20\n",
    "if (user_age <=18):\n",
    "    print(\"user age is greater than 18\")\n",
    "print(\"this line will print always\")\n",
    "    \n"
   ]
  },
  {
   "cell_type": "markdown",
   "metadata": {},
   "source": [
    "## if ..... else"
   ]
  },
  {
   "cell_type": "markdown",
   "metadata": {},
   "source": [
    "![title](Desktop\\ifel.jpeg)"
   ]
  },
  {
   "cell_type": "code",
   "execution_count": 10,
   "metadata": {},
   "outputs": [
    {
     "name": "stdout",
     "output_type": "stream",
     "text": [
      "the user age is above 18\n"
     ]
    }
   ],
   "source": [
    "#program to check whether the user age is under 18 or not\n",
    "\n",
    "user_age=20\n",
    "if (user_age <=18):\n",
    "    print(\"user age is 18 or younger\")\n",
    "\n",
    "else:    \n",
    "    print(\"the user age is above 18\")"
   ]
  },
  {
   "cell_type": "code",
   "execution_count": 15,
   "metadata": {},
   "outputs": [
    {
     "name": "stdout",
     "output_type": "stream",
     "text": [
      "the num is positive\n"
     ]
    }
   ],
   "source": [
    "#program to verify whether the number is positive or not\n",
    "\n",
    "num = 20\n",
    "if num>0:\n",
    "    print(\"the num is positive\")\n",
    "\n",
    "else:\n",
    "    print(\"the num is negative\")"
   ]
  },
  {
   "cell_type": "code",
   "execution_count": null,
   "metadata": {},
   "outputs": [],
   "source": []
  }
 ],
 "metadata": {
  "kernelspec": {
   "display_name": "Python 3",
   "language": "python",
   "name": "python3"
  },
  "language_info": {
   "codemirror_mode": {
    "name": "ipython",
    "version": 3
   },
   "file_extension": ".py",
   "mimetype": "text/x-python",
   "name": "python",
   "nbconvert_exporter": "python",
   "pygments_lexer": "ipython3",
   "version": "3.7.4"
  }
 },
 "nbformat": 4,
 "nbformat_minor": 2
}
